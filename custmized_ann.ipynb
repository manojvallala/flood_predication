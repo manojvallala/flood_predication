{
  "nbformat": 4,
  "nbformat_minor": 0,
  "metadata": {
    "colab": {
      "provenance": []
    },
    "kernelspec": {
      "name": "python3",
      "display_name": "Python 3"
    },
    "language_info": {
      "name": "python"
    }
  },
  "cells": [
    {
      "cell_type": "code",
      "source": [
        "from keras.models import Sequential\n",
        "from keras.layers import Dense, Dropout, BatchNormalization, Activation\n",
        "from keras.utils import plot_model\n",
        "from keras.layers import Input\n",
        "\n",
        "import numpy as np\n",
        "import pandas as pd\n",
        "from sklearn.model_selection import train_test_split\n",
        "from sklearn.linear_model import LinearRegression, Ridge, Lasso, ElasticNet\n",
        "from sklearn.svm import SVR\n",
        "from sklearn.impute import SimpleImputer\n",
        "from sklearn.preprocessing import MinMaxScaler, PolynomialFeatures\n",
        "from sklearn.metrics import mean_squared_error, r2_score\n",
        "import tensorflow as tf\n",
        "\n",
        "df = pd.read_csv(\"train.csv\")\n",
        "\n",
        "# Separate features and target variable\n",
        "X = df.drop(columns=['FloodProbability'])\n",
        "y = df['FloodProbability']\n",
        "\n",
        "# Define the model as per your architecture\n",
        "model = Sequential()\n",
        "model.add(Input(shape=(21,)))\n",
        "# Input layer\n",
        "model.add(Dense(512))\n",
        "model.add(BatchNormalization())\n",
        "model.add(Activation('relu'))\n",
        "model.add(Dropout(0.25))\n",
        "\n",
        "# Hidden Layer 1\n",
        "model.add(Dense(256))\n",
        "model.add(BatchNormalization())\n",
        "model.add(Activation('relu'))\n",
        "model.add(Dropout(0.5))\n",
        "\n",
        "# Hidden Layer 2\n",
        "model.add(Dense(256))\n",
        "model.add(BatchNormalization())\n",
        "model.add(Activation('relu'))\n",
        "model.add(Dropout(0.5))\n",
        "\n",
        "# Hidden Layer 3\n",
        "model.add(Dense(128))\n",
        "model.add(BatchNormalization())\n",
        "model.add(Activation('relu'))\n",
        "model.add(Dropout(0.5))\n",
        "\n",
        "# Hidden Layer 4\n",
        "model.add(Dense(64))\n",
        "model.add(BatchNormalization())\n",
        "model.add(Activation('relu'))\n",
        "model.add(Dropout(0.5))\n",
        "\n",
        "# Output Layer\n",
        "model.add(Dense(10))  # num_labels should be defined or set to the correct number\n",
        "# Compile model ONLY ONCE, and with the desired loss/metrics\n",
        "# Since you are using categorical_crossentropy and to_categorical for target,\n",
        "# use 'categorical_crossentropy' for loss.\n",
        "model.compile(loss='categorical_crossentropy', metrics=['accuracy'], optimizer='adam')\n",
        "\n",
        "# Impute missing values in X BEFORE scaling\n",
        "imputer = SimpleImputer(strategy='mean')  # Create an imputer instance\n",
        "X_imputed = imputer.fit_transform(X)  # Impute missing values in X\n",
        "\n",
        "# Impute missing values in y (if any)\n",
        "y_imputed = imputer.fit_transform(y.values.reshape(-1, 1)).ravel() # Impute and reshape back to 1D\n",
        "\n",
        "# Normalize the imputed features using Min-Max Scaling\n",
        "scaler = MinMaxScaler()\n",
        "X_normalized = scaler.fit_transform(X_imputed) # Scale the imputed data\n",
        "\n",
        "# Split the normalized data into training and testing sets\n",
        "# Use y_imputed instead of y\n",
        "X_train, X_test, y_train, y_test = train_test_split(X_normalized, y_imputed, test_size=0.01, random_state=42)\n",
        "\n",
        "num_batch_size = 32  # Example batch size, adjust as needed\n",
        "num_epochs = 10\n",
        "\n",
        "# Convert target variable to categorical using one-hot encoding\n",
        "y_train_encoded = tf.keras.utils.to_categorical(y_train, num_classes=10)\n",
        "y_test_encoded = tf.keras.utils.to_categorical(y_test, num_classes=10)\n",
        "\n",
        "\n",
        "# Now fit the model using the encoded target variable\n",
        "model.fit(X_train, y_train_encoded, batch_size=num_batch_size, epochs=num_epochs, validation_data=(X_test, y_test_encoded))"
      ],
      "metadata": {
        "colab": {
          "base_uri": "https://localhost:8080/"
        },
        "id": "rXF32eWK8jWx",
        "outputId": "34827d8e-0da7-498a-8171-3aa04f5c7f4e"
      },
      "execution_count": 12,
      "outputs": [
        {
          "output_type": "stream",
          "name": "stdout",
          "text": [
            "Epoch 1/10\n",
            "\u001b[1m34587/34587\u001b[0m \u001b[32m━━━━━━━━━━━━━━━━━━━━\u001b[0m\u001b[37m\u001b[0m \u001b[1m312s\u001b[0m 9ms/step - accuracy: 0.4342 - loss: 15.1705 - val_accuracy: 0.8290 - val_loss: 16.0627\n",
            "Epoch 2/10\n",
            "\u001b[1m34587/34587\u001b[0m \u001b[32m━━━━━━━━━━━━━━━━━━━━\u001b[0m\u001b[37m\u001b[0m \u001b[1m325s\u001b[0m 9ms/step - accuracy: 0.5604 - loss: 15.8335 - val_accuracy: 0.1321 - val_loss: 16.0159\n",
            "Epoch 3/10\n",
            "\u001b[1m34587/34587\u001b[0m \u001b[32m━━━━━━━━━━━━━━━━━━━━\u001b[0m\u001b[37m\u001b[0m \u001b[1m319s\u001b[0m 9ms/step - accuracy: 0.1556 - loss: 15.8834 - val_accuracy: 0.5826 - val_loss: 16.0309\n",
            "Epoch 4/10\n",
            "\u001b[1m34587/34587\u001b[0m \u001b[32m━━━━━━━━━━━━━━━━━━━━\u001b[0m\u001b[37m\u001b[0m \u001b[1m315s\u001b[0m 9ms/step - accuracy: 0.2730 - loss: 15.9137 - val_accuracy: 0.3065 - val_loss: 15.9985\n",
            "Epoch 5/10\n",
            "\u001b[1m34587/34587\u001b[0m \u001b[32m━━━━━━━━━━━━━━━━━━━━\u001b[0m\u001b[37m\u001b[0m \u001b[1m324s\u001b[0m 9ms/step - accuracy: 0.2732 - loss: 15.8750 - val_accuracy: 0.1862 - val_loss: 16.0662\n",
            "Epoch 6/10\n",
            "\u001b[1m34587/34587\u001b[0m \u001b[32m━━━━━━━━━━━━━━━━━━━━\u001b[0m\u001b[37m\u001b[0m \u001b[1m302s\u001b[0m 9ms/step - accuracy: 0.1652 - loss: 15.8865 - val_accuracy: 0.0700 - val_loss: 16.0588\n",
            "Epoch 7/10\n",
            "\u001b[1m34587/34587\u001b[0m \u001b[32m━━━━━━━━━━━━━━━━━━━━\u001b[0m\u001b[37m\u001b[0m \u001b[1m303s\u001b[0m 9ms/step - accuracy: 0.2506 - loss: 15.9524 - val_accuracy: 0.1668 - val_loss: 16.0381\n",
            "Epoch 8/10\n",
            "\u001b[1m34587/34587\u001b[0m \u001b[32m━━━━━━━━━━━━━━━━━━━━\u001b[0m\u001b[37m\u001b[0m \u001b[1m325s\u001b[0m 9ms/step - accuracy: 0.2498 - loss: 15.9552 - val_accuracy: 0.9852 - val_loss: 16.1053\n",
            "Epoch 9/10\n",
            "\u001b[1m34587/34587\u001b[0m \u001b[32m━━━━━━━━━━━━━━━━━━━━\u001b[0m\u001b[37m\u001b[0m \u001b[1m305s\u001b[0m 9ms/step - accuracy: 0.7614 - loss: 15.9912 - val_accuracy: 0.6683 - val_loss: 16.0822\n",
            "Epoch 10/10\n",
            "\u001b[1m34587/34587\u001b[0m \u001b[32m━━━━━━━━━━━━━━━━━━━━\u001b[0m\u001b[37m\u001b[0m \u001b[1m307s\u001b[0m 9ms/step - accuracy: 0.6958 - loss: 16.0081 - val_accuracy: 0.9225 - val_loss: 16.0875\n"
          ]
        },
        {
          "output_type": "execute_result",
          "data": {
            "text/plain": [
              "<keras.src.callbacks.history.History at 0x7a1fc31ff190>"
            ]
          },
          "metadata": {},
          "execution_count": 12
        }
      ]
    },
    {
      "cell_type": "code",
      "source": [
        "# Evaluate the model on the test set\n",
        "loss, accuracy = model.evaluate(X_test, y_test_encoded, verbose=0)\n",
        "\n",
        "# Print the results\n",
        "print(f\"Test Loss: {loss:.4f}\")\n",
        "print(f\"Test Accuracy: {accuracy:.4f}\")"
      ],
      "metadata": {
        "colab": {
          "base_uri": "https://localhost:8080/"
        },
        "id": "sP78LB5iJG1R",
        "outputId": "256674ff-d665-4460-b3ba-483df78ea166"
      },
      "execution_count": 13,
      "outputs": [
        {
          "output_type": "stream",
          "name": "stdout",
          "text": [
            "Test Loss: 16.0875\n",
            "Test Accuracy: 0.9225\n"
          ]
        }
      ]
    }
  ]
}